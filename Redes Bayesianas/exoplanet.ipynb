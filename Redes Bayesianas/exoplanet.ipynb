{
 "cells": [
  {
   "attachments": {},
   "cell_type": "markdown",
   "metadata": {},
   "source": [
    "### Importación de bibliotecas y carga de datos"
   ]
  },
  {
   "attachments": {},
   "cell_type": "markdown",
   "metadata": {},
   "source": [
    "En esta sección se importan las bibliotecas necesarias (pandas, numpy, matplotlib.pyplot, bnlearn) y se carga el archivo de datos 'exoplanets.xls' utilizando pandas."
   ]
  },
  {
   "cell_type": "code",
   "execution_count": null,
   "metadata": {},
   "outputs": [],
   "source": [
    "import pandas as pd\n",
    "import numpy as np\n",
    "import matplotlib.pyplot as plt\n",
    "import bnlearn as bn"
   ]
  },
  {
   "cell_type": "code",
   "execution_count": null,
   "metadata": {},
   "outputs": [],
   "source": [
    "df = pd.read_excel('exoplanets.xls')"
   ]
  },
  {
   "attachments": {},
   "cell_type": "markdown",
   "metadata": {},
   "source": [
    "### Categorización de variables reales"
   ]
  },
  {
   "attachments": {},
   "cell_type": "markdown",
   "metadata": {},
   "source": [
    "Aquí se define la función categorize_variable que toma un dataframe, una variable y una lista de etiquetas, y categoriza la variable en el dataframe utilizando el método qcut de pandas. Se realizan varias llamadas a esta función para categorizar diferentes variables del dataframe."
   ]
  },
  {
   "cell_type": "code",
   "execution_count": null,
   "metadata": {},
   "outputs": [],
   "source": [
    "def categorize_variable(dataframe: pd.DataFrame, variable: str, labels: list) -> None:\n",
    "    dataframe[variable] = pd.qcut(x=dataframe[variable], q=3, labels=labels)\n",
    "    return None"
   ]
  },
  {
   "cell_type": "code",
   "execution_count": null,
   "metadata": {},
   "outputs": [],
   "source": [
    "categorize_variable(df, 'radius (m)', [\"Small\", \"Medium\", \"Big\"])\n",
    "categorize_variable(df, 'mass (kg)', [\"Light\", \"Medium\", \"Heavy\"])\n",
    "categorize_variable(df, 'gravity', [\"Weak\", \"Medium\", \"Strong\"])\n",
    "categorize_variable(df, 'avg_temp (C)', [\"Cold\", \"Tempered\", \"Warm\"])\n",
    "categorize_variable(df, 'rotational_period (h)', [\"Slow\", \"Normal\", \"Fast\"])"
   ]
  },
  {
   "attachments": {},
   "cell_type": "markdown",
   "metadata": {},
   "source": [
    "### Obtención y reflexión sobre el grafo de la red bayesiana"
   ]
  },
  {
   "attachments": {},
   "cell_type": "markdown",
   "metadata": {},
   "source": [
    "En esta sección se utiliza la librería bnlearn para obtener el grafo de manera automática mediante el método 'hc' (Hill Climbing) y el scoretype 'bdeu' (Bayesian Dirichlet Equivalent Uniform). Luego se imprime el grafo y se reflexiona sobre su verosimilitud."
   ]
  },
  {
   "cell_type": "code",
   "execution_count": null,
   "metadata": {},
   "outputs": [],
   "source": [
    "DAG = bn.structure_learning.fit(df, methodtype='hc', scoretype='bdeu')\n",
    "bn.plot(DAG)"
   ]
  },
  {
   "attachments": {},
   "cell_type": "markdown",
   "metadata": {},
   "source": [
    "### Creación y visualización del grafo de la red bayesiana"
   ]
  },
  {
   "attachments": {},
   "cell_type": "markdown",
   "metadata": {},
   "source": [
    "Se definen las conexiones entre las variables del modelo mediante una lista de tuplas llamada model_edges. Cada tupla representa una conexión entre dos variables. Se explican las relaciones entre las variables en los comentarios.\n",
    "\n",
    "Se utiliza la función make_DAG de bnlearn para crear un grafo dirigido acíclico (DAG) a partir de las conexiones definidas en model_edges. Luego se imprime el grafo."
   ]
  },
  {
   "cell_type": "code",
   "execution_count": null,
   "metadata": {},
   "outputs": [],
   "source": [
    "model_edges = [\n",
    "    ('radius (m)', 'mass (kg)'), # La masa depende de la cantidad de materia en el objeto y su tamaño\n",
    "    ('mass (kg)', 'gravity'), # La gravedad depende de la cantidad de materia en el objeto\n",
    "    ('radius (m)', 'gravity'), # La gravedad también depende del tamaño del objeto\n",
    "    ('mass (kg)', 'atmosphere'), # La masa puede afectar la capacidad del objeto para retener una atmósfera.\n",
    "    ('gravity', 'atmosphere'), # La gravedad puede afectar la capacidad del objeto para retener una atmósfera.\n",
    "    ('atmosphere', 'oxygene'), # La presencia de una atmósfera adecuada es un factor importante para la existencia de oxígeno respirable\n",
    "    ('atmosphere', 'water'), # La presencia de una atmósfera adecuada es un factor importante para la existencia de agua líquida\n",
    "    ('atmosphere', 'life'),  # La atmósfera es un factor esencial para la vida\n",
    "    ('oxygene', 'life'), # El oxígeno es un factor esencial para la vida\n",
    "    ('water', 'life') # El agua es un factor esencial para la vida\n",
    "]\n",
    "\n",
    "DAG_life = bn.make_DAG(model_edges)\n",
    "\n",
    "bn.plot(DAG_life, interactive=False)"
   ]
  },
  {
   "attachments": {},
   "cell_type": "markdown",
   "metadata": {},
   "source": [
    "### Aprendizaje de los parámetros y obtención de las tablas de probabilidad condicionada"
   ]
  },
  {
   "attachments": {},
   "cell_type": "markdown",
   "metadata": {},
   "source": [
    "Se utiliza la función parameter_learning.fit de bnlearn para aprender los parámetros del modelo a partir de los datos del dataframe y se imprime la tabla de probabilidad condicionada resultante."
   ]
  },
  {
   "cell_type": "code",
   "execution_count": null,
   "metadata": {},
   "outputs": [],
   "source": [
    "model = bn.parameter_learning.fit(DAG, df)"
   ]
  },
  {
   "cell_type": "code",
   "execution_count": null,
   "metadata": {},
   "outputs": [],
   "source": [
    "bn.print_CPD(model)"
   ]
  },
  {
   "attachments": {},
   "cell_type": "markdown",
   "metadata": {},
   "source": [
    "### Realización de inferencias sobre propiedades de los planetas"
   ]
  },
  {
   "attachments": {},
   "cell_type": "markdown",
   "metadata": {},
   "source": [
    "Se realizan varias inferencias utilizando la función inference.fit de bnlearn. Se especifican diferentes variables objetivo y evidencia para realizar las inferencias y se imprime el resultado de cada inferencia en forma de tabla de probabilidad condicionada. Cada inferencia se identifica con un título (q1, q2, q3, q4) y se explican las condiciones de evidencia utilizadas en los comentarios."
   ]
  },
  {
   "cell_type": "code",
   "execution_count": null,
   "metadata": {},
   "outputs": [],
   "source": [
    "q1 = bn.inference.fit(model, variables=['life'], evidence={'water': 'YES', 'atmosphere': 'YES'})\n",
    "print(q1.df)"
   ]
  },
  {
   "cell_type": "code",
   "execution_count": null,
   "metadata": {},
   "outputs": [],
   "source": [
    "q2 = bn.inference.fit(model, variables=['life'], evidence={'water': 'NO', 'atmosphere': 'NO', 'oxygene': 'NO'})\n",
    "print(q2.df)"
   ]
  },
  {
   "cell_type": "code",
   "execution_count": null,
   "metadata": {},
   "outputs": [],
   "source": [
    "q3 = bn.inference.fit(model, variables=['life'], evidence={'mass (kg)': 'Light', 'radius (m)': 'Small'})\n",
    "print(q3.df)"
   ]
  },
  {
   "cell_type": "code",
   "execution_count": null,
   "metadata": {},
   "outputs": [],
   "source": [
    "q4 = bn.inference.fit(model, variables=['life'], evidence={'mass (kg)': 'Heavy', 'radius (m)': 'Big'})\n",
    "print(q4.df)"
   ]
  }
 ],
 "metadata": {
  "kernelspec": {
   "display_name": "base",
   "language": "python",
   "name": "python3"
  },
  "language_info": {
   "codemirror_mode": {
    "name": "ipython",
    "version": 3
   },
   "file_extension": ".py",
   "mimetype": "text/x-python",
   "name": "python",
   "nbconvert_exporter": "python",
   "pygments_lexer": "ipython3",
   "version": "3.9.16"
  },
  "orig_nbformat": 4,
  "vscode": {
   "interpreter": {
    "hash": "48285f4441e44834ef39c631914ee925f2ff31cdbf07f7e23a205d28bf2c83fb"
   }
  }
 },
 "nbformat": 4,
 "nbformat_minor": 2
}
