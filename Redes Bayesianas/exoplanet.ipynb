{
 "cells": [
  {
   "cell_type": "code",
   "execution_count": null,
   "metadata": {},
   "outputs": [],
   "source": [
    "import pandas as pd\n",
    "import numpy as np\n",
    "import matplotlib.pyplot as plt\n",
    "import bnlearn as bn"
   ]
  },
  {
   "cell_type": "code",
   "execution_count": null,
   "metadata": {},
   "outputs": [],
   "source": [
    "df = pd.read_excel('exoplanets.xls')"
   ]
  },
  {
   "cell_type": "code",
   "execution_count": null,
   "metadata": {},
   "outputs": [],
   "source": [
    "df.head()"
   ]
  },
  {
   "cell_type": "code",
   "execution_count": null,
   "metadata": {},
   "outputs": [],
   "source": [
    "df.info()"
   ]
  },
  {
   "attachments": {},
   "cell_type": "markdown",
   "metadata": {},
   "source": [
    "1. Categoriza las variables reales como consideres."
   ]
  },
  {
   "cell_type": "code",
   "execution_count": null,
   "metadata": {},
   "outputs": [],
   "source": [
    "def categorize_variable(dataframe: pd.DataFrame, variable: str, labels: list) -> None:\n",
    "    dataframe[variable] = pd.qcut(x=dataframe[variable], q=3, labels=labels)\n",
    "    return None"
   ]
  },
  {
   "cell_type": "code",
   "execution_count": null,
   "metadata": {},
   "outputs": [],
   "source": [
    "categorize_variable(df, 'radius (m)', [\"Small\", \"Medium\", \"Big\"])\n",
    "categorize_variable(df, 'mass (kg)', [\"Light\", \"Medium\", \"Heavy\"])\n",
    "categorize_variable(df, 'gravity', [\"Weak\", \"Medium\", \"Strong\"])\n",
    "categorize_variable(df, 'avg_temp (C)', [\"Cold\", \"Tempered\", \"Warm\"])\n",
    "categorize_variable(df, 'rotational_period (h)', [\"Slow\", \"Normal\", \"Fast\"])"
   ]
  },
  {
   "attachments": {},
   "cell_type": "markdown",
   "metadata": {},
   "source": [
    "2. Mediante la librería bnlearn obtén el grafo de manera automática de la red bayesiana y reflexiona sobre su verosimilitud. Cámbialo manualmente si lo crees conveniente."
   ]
  },
  {
   "cell_type": "code",
   "execution_count": null,
   "metadata": {},
   "outputs": [],
   "source": [
    "with pd.option_context('display.max_rows', None, 'display.max_columns', None):\n",
    "    print(df)"
   ]
  },
  {
   "cell_type": "code",
   "execution_count": null,
   "metadata": {},
   "outputs": [],
   "source": [
    "DAG = bn.structure_learning.fit(df, methodtype='hc', scoretype='bdeu')\n",
    "bn.plot(DAG)"
   ]
  },
  {
   "cell_type": "code",
   "execution_count": null,
   "metadata": {},
   "outputs": [],
   "source": [
    "model_edges = [\n",
    "    ('radius (m)', 'mass (kg)'), # La masa depende de la cantidad de materia en el objeto y su tamaño\n",
    "    ('mass (kg)', 'gravity'), # La gravedad depende de la cantidad de materia en el objeto\n",
    "    ('radius (m)', 'gravity'), # La gravedad también depende del tamaño del objeto\n",
    "    ('mass (kg)', 'atmosphere'), # La masa puede afectar la capacidad del objeto para retener una atmósfera.\n",
    "    ('gravity', 'atmosphere'), # La gravedad puede afectar la capacidad del objeto para retener una atmósfera.\n",
    "    ('atmosphere', 'oxygene'), # La presencia de una atmósfera adecuada es un factor importante para la existencia de oxígeno respirable\n",
    "    ('atmosphere', 'water'), # La presencia de una atmósfera adecuada es un factor importante para la existencia de agua líquida\n",
    "    ('atmosphere', 'life'),  # La atmósfera es un factor esencial para la vida\n",
    "    ('oxygene', 'life'), # El oxígeno es un factor esencial para la vida\n",
    "    ('water', 'life') # El agua es un factor esencial para la vida\n",
    "]\n",
    "\n",
    "DAG_life = bn.make_DAG(model_edges)\n",
    "\n",
    "bn.plot(DAG_life, interactive=False)"
   ]
  },
  {
   "attachments": {},
   "cell_type": "markdown",
   "metadata": {},
   "source": [
    "3. Busca de manera automática las tablas de probabilidad condicionada de la red."
   ]
  },
  {
   "cell_type": "code",
   "execution_count": null,
   "metadata": {},
   "outputs": [],
   "source": [
    "model = bn.parameter_learning.fit(DAG, df)"
   ]
  },
  {
   "cell_type": "code",
   "execution_count": null,
   "metadata": {},
   "outputs": [],
   "source": [
    "bn.print_CPD(model)"
   ]
  },
  {
   "attachments": {},
   "cell_type": "markdown",
   "metadata": {},
   "source": [
    "4. Escoge algunas propiedades de los planetas y realiza la inferencia sobre ellos."
   ]
  },
  {
   "cell_type": "code",
   "execution_count": null,
   "metadata": {},
   "outputs": [],
   "source": [
    "q1 = bn.inference.fit(model, variables=['life'], evidence={'water': 'YES', 'atmosphere': 'YES'})\n",
    "print(q1.df)"
   ]
  },
  {
   "cell_type": "code",
   "execution_count": null,
   "metadata": {},
   "outputs": [],
   "source": [
    "q2 = bn.inference.fit(model, variables=['life'], evidence={'water': 'NO', 'atmosphere': 'NO', 'oxygene': 'NO'})\n",
    "print(q2.df)"
   ]
  },
  {
   "cell_type": "code",
   "execution_count": null,
   "metadata": {},
   "outputs": [],
   "source": [
    "q3 = bn.inference.fit(model, variables=['life'], evidence={'mass (kg)': 'Light', 'radius (m)': 'Small'})\n",
    "print(q3.df)"
   ]
  },
  {
   "cell_type": "code",
   "execution_count": null,
   "metadata": {},
   "outputs": [],
   "source": [
    "q4 = bn.inference.fit(model, variables=['life'], evidence={'mass (kg)': 'Heavy', 'radius (m)': 'Big'})\n",
    "print(q4.df)"
   ]
  }
 ],
 "metadata": {
  "kernelspec": {
   "display_name": "base",
   "language": "python",
   "name": "python3"
  },
  "language_info": {
   "codemirror_mode": {
    "name": "ipython",
    "version": 3
   },
   "file_extension": ".py",
   "mimetype": "text/x-python",
   "name": "python",
   "nbconvert_exporter": "python",
   "pygments_lexer": "ipython3",
   "version": "3.9.16"
  },
  "orig_nbformat": 4,
  "vscode": {
   "interpreter": {
    "hash": "48285f4441e44834ef39c631914ee925f2ff31cdbf07f7e23a205d28bf2c83fb"
   }
  }
 },
 "nbformat": 4,
 "nbformat_minor": 2
}
