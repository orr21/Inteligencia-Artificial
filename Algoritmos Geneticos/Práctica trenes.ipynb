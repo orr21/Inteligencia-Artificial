{
 "cells": [
  {
   "attachments": {},
   "cell_type": "markdown",
   "metadata": {},
   "source": [
    "# Práctica sobre algoritmos genéticos\n",
    "\n",
    "Un área ferroviaria de carga/descarga con una única vía de entrada y otra salida se compone de tres muelles de carga/descarga: Op1, Op2 y Op3, correspondientes a contenedores, carbón y gas. Por tanto, cada tren que llega se dirige a un muelle en función de su carga. Un tren tarda en cargar o descargar un tiempo proporcional al número de vagones que arrastra. Cada día llegan secuencialmente n trenes. Si los trenes son de cargas distintas, pueden entrar en paralelo a los muelles. Cuando dos trenes con el mismo tipo de carga se encuentran seguidos, el segundo debe esperar por el primero, así como todos los demás que se encuentren por detrás.\n",
    "\n",
    "Se nos plantea resolver, mediante un algoritmo genético, el problema de la ordenación en la entrada de los trenes para minimizar el tiempo de paso del conjunto de trenes.\n"
   ]
  },
  {
   "cell_type": "code",
   "execution_count": null,
   "metadata": {},
   "outputs": [],
   "source": [
    "import random\n",
    "import numpy\n",
    "import matplotlib.pyplot as plt\n",
    "from deap import base, creator, tools, algorithms"
   ]
  },
  {
   "attachments": {},
   "cell_type": "markdown",
   "metadata": {},
   "source": [
    "## Trenes"
   ]
  },
  {
   "attachments": {},
   "cell_type": "markdown",
   "metadata": {},
   "source": [
    "Se define la clase Train, que representa un tren y sus atributos, como el número de vagones, el muelle de operaciones y la matrícula."
   ]
  },
  {
   "cell_type": "code",
   "execution_count": null,
   "metadata": {},
   "outputs": [],
   "source": [
    "class Train:\n",
    "    def __init__(self, wagons, op, licence_plate):\n",
    "        self.wagons = wagons\n",
    "        self.op = op\n",
    "        self.licence_plate = licence_plate\n",
    "\n",
    "    def __str__(self):\n",
    "        return \"Número de vagones:\" + str(self.wagons) \\\n",
    "        + \"\\n\" + \"Muelle de operaciones:\" + str(self.op) \\\n",
    "        + \"\\n\" + \"Matrícula:\" + str(self.licence_plate)\n"
   ]
  },
  {
   "attachments": {},
   "cell_type": "markdown",
   "metadata": {},
   "source": [
    "La función random_trains_generation genera una lista de trenes de manera aleatoria. Cada tren tiene un número aleatorio de vagones y se le asigna un tipo de carga (op1, op2 o op3)."
   ]
  },
  {
   "cell_type": "code",
   "execution_count": null,
   "metadata": {},
   "outputs": [],
   "source": [
    "def random_trains_generation(n):\n",
    "\n",
    "    train_list = []\n",
    "    \n",
    "    for i in range(n):\n",
    "        wagons = random.randint(10, 30)  # Cada tren puede arrastrar entre 10 y 30 vagones\n",
    "        op = random.choice([\"op1\", \"op2\", \"op3\"])  # A cada tren se le asigna un tipo de carga\n",
    "        train_list.append(Train(wagons, op, i))\n",
    "\n",
    "    return train_list\n",
    "\n",
    "trains = random_trains_generation(100)"
   ]
  },
  {
   "attachments": {},
   "cell_type": "markdown",
   "metadata": {},
   "source": [
    "Se crea el tipo de fitness FitnessMin con el peso establecido como -1.0, lo que indica que se busca minimizar el valor del fitness. Además, se crea el tipo de individuo Individual como una lista que contiene objetos de la clase Train y se le asigna el tipo de fitness definido anteriormente."
   ]
  },
  {
   "cell_type": "code",
   "execution_count": null,
   "metadata": {},
   "outputs": [],
   "source": [
    "creator.create(\"FitnessMin\", base.Fitness, weights=(-1.0,))\n",
    "creator.create(\"Individual\", list, fitness=creator.FitnessMin)"
   ]
  },
  {
   "attachments": {},
   "cell_type": "markdown",
   "metadata": {},
   "source": [
    "Se crea una instancia del Toolbox de DEAP y se registran las funciones y operadores genéticos necesarios, como la inicialización de individuos, la inicialización de la población, la evaluación de individuos, la selección, la cruza y la mutación"
   ]
  },
  {
   "cell_type": "code",
   "execution_count": null,
   "metadata": {},
   "outputs": [],
   "source": [
    "toolbox = base.Toolbox()\n",
    "toolbox.register(\"individual\", creator.Individual, trains)\n",
    "toolbox.register(\"population\", tools.initRepeat, list, toolbox.individual)"
   ]
  },
  {
   "attachments": {},
   "cell_type": "markdown",
   "metadata": {},
   "source": [
    "La función evalTrains calcula el tiempo total de paso de los trenes en un individuo. Se utiliza un diccionario use_times para realizar un seguimiento de los tiempos de uso de los muelles de carga/descarga. Se itera sobre los trenes del individuo y se actualizan los tiempos de uso de los muelles según las reglas establecidas. Al final, se calcula el tiempo total sumando los tiempos de espera y el tiempo máximo de uso de los muelles."
   ]
  },
  {
   "cell_type": "code",
   "execution_count": null,
   "metadata": {},
   "outputs": [],
   "source": [
    "def evalTrains(individual):\n",
    "    use_times = {\"op1\": 0, \"op2\": 0, \"op3\": 0}\n",
    "    total_time = 0\n",
    "\n",
    "    for train in individual:\n",
    "        if use_times[train.op] == 0:\n",
    "            use_times[train.op] = train.wagons\n",
    "        else:\n",
    "            waiting_time = use_times[train.op]\n",
    "            for op, value in use_times.items():\n",
    "                if value - waiting_time < 0:\n",
    "                    use_times[op] = 0\n",
    "                else:\n",
    "                    use_times[op] = value - waiting_time\n",
    "            use_times[train.op] = train.wagons\n",
    "            total_time += waiting_time\n",
    "\n",
    "    total_time += max(use_times.values())\n",
    "    return total_time,"
   ]
  },
  {
   "attachments": {},
   "cell_type": "markdown",
   "metadata": {},
   "source": [
    "Se crea un conjunto licence_plates que contiene todas las matrículas de los trenes generados. Esto se utiliza más adelante para verificar qué trenes faltan en un individuo."
   ]
  },
  {
   "cell_type": "code",
   "execution_count": null,
   "metadata": {},
   "outputs": [],
   "source": [
    "licence_plates = set()\n",
    "for t in trains:\n",
    "    licence_plates.add(t.licence_plate)"
   ]
  },
  {
   "attachments": {},
   "cell_type": "markdown",
   "metadata": {},
   "source": [
    "Las funciones get_missing_trains y remove_repeated se utilizan para obtener los trenes que faltan en un individuo y eliminar los trenes repetidos, respectivamente."
   ]
  },
  {
   "cell_type": "code",
   "execution_count": null,
   "metadata": {},
   "outputs": [],
   "source": [
    "def get_missing_trains(ind):\n",
    "    missing_ind = licence_plates - set(train.licence_plate for train in ind)\n",
    "    return [t for t in trains if t.licence_plate in missing_ind]\n",
    "\n",
    "def remove_repeated(ind):\n",
    "    return [t for i, t in enumerate(ind) if t.licence_plate not in {x.licence_plate for x in ind[:i]}]"
   ]
  },
  {
   "attachments": {},
   "cell_type": "markdown",
   "metadata": {},
   "source": [
    "La función cxOnePointModified es una versión modificada del operador de cruza de un punto. Se selecciona un punto de cruza aleatorio y se intercambian los segmentos seleccionados entre los padres. Luego, se asegura que no haya trenes repetidos ni trenes faltantes en los descendientes utilizando las funciones auxiliares mencionadas anteriormente."
   ]
  },
  {
   "cell_type": "code",
   "execution_count": null,
   "metadata": {},
   "outputs": [],
   "source": [
    "def cxOnePointModified(ind1, ind2):\n",
    "    cxpoint = random.randint(0,len(ind1) - 1)\n",
    "\n",
    "    # Intercambiar los segmentos seleccionados entre los padres\n",
    "    ind1[cxpoint:], ind2[cxpoint:] = ind2[cxpoint:], ind1[cxpoint:]\n",
    "\n",
    "    missing_ind1 = get_missing_trains(ind1)\n",
    "    missing_ind2 = get_missing_trains(ind2)\n",
    "    none_repeated_ind1 = remove_repeated(ind1)\n",
    "    none_repeated_ind2 = remove_repeated(ind2)\n",
    "    \n",
    "    ind1[:] = none_repeated_ind1 + missing_ind1\n",
    "    \n",
    "    ind2[:] = none_repeated_ind2 + missing_ind2\n",
    "\n",
    "    return ind1, ind2"
   ]
  },
  {
   "attachments": {},
   "cell_type": "markdown",
   "metadata": {},
   "source": [
    "La función main es la función principal del algoritmo genético. Se establecen los parámetros como el número de generaciones, el tamaño de la población, las probabilidades de cruza y mutación, y se inicializa la población. También se definen las estadísticas y el \"Hall of Fame\" para almacenar los mejores individuos. Luego, se llama a la función eaSimple de DEAP para ejecutar el algoritmo genético con los operadores y parámetros especificados."
   ]
  },
  {
   "cell_type": "code",
   "execution_count": null,
   "metadata": {},
   "outputs": [],
   "source": [
    "toolbox.register(\"evaluate\", evalTrains)\n",
    "toolbox.register(\"mate\", cxOnePointModified)\n",
    "toolbox.register(\"mutate\", tools.mutShuffleIndexes, indpb=0.05)\n",
    "toolbox.register(\"select\", tools.selTournament, tournsize=4)\n",
    "\n",
    "def main():\n",
    "    NGEN = 500\n",
    "    MU = 10\n",
    "    CXPB = 0.7\n",
    "    MUTPB = 0.2\n",
    "\n",
    "    # Población inicial\n",
    "    pop = toolbox.population(n=MU)\n",
    "    \n",
    "    # Estadísticas de la población\n",
    "    stats = tools.Statistics(lambda ind: ind.fitness.values)\n",
    "    stats.register(\"avg\", numpy.mean, axis=0)\n",
    "    stats.register(\"min\", numpy.min, axis=0)\n",
    "    stats.register(\"max\", numpy.max, axis=0)\n",
    "\n",
    "    # Hall Of Fame\n",
    "    hof = tools.HallOfFame(4)\n",
    "\n",
    "\n",
    "    algorithms.eaSimple(pop, toolbox, cxpb=CXPB, mutpb=MUTPB, ngen=NGEN, stats=stats, halloffame=hof, verbose=True)\n",
    "\n",
    "    return pop, stats, hof"
   ]
  },
  {
   "cell_type": "code",
   "execution_count": null,
   "metadata": {},
   "outputs": [],
   "source": [
    "pop, stats, hof  = main()"
   ]
  },
  {
   "attachments": {},
   "cell_type": "markdown",
   "metadata": {},
   "source": [
    "### Tiempo Ideal vs Tiempo del algoritmo"
   ]
  },
  {
   "attachments": {},
   "cell_type": "markdown",
   "metadata": {},
   "source": [
    "Esta sección calcula el tiempo mínimo esperado para completar las operaciones y compara este valor con el tiempo obtenido por el algoritmo genético. Se realiza un seguimiento del tiempo requerido para cada operación y se imprime el tiempo mínimo y el tiempo del algoritmo."
   ]
  },
  {
   "cell_type": "code",
   "execution_count": null,
   "metadata": {},
   "outputs": [],
   "source": [
    "time_of_operations = {\"op1\": 0, \"op2\": 0, \"op3\": 0}\n",
    "for t in trains:\n",
    "    time_of_operations[t.op] += t.wagons\n",
    "print(\"el tiempo mínimo será: \",max(time_of_operations[\"op1\"], time_of_operations[\"op2\"], time_of_operations[\"op3\"]))\n",
    "print(\"el tiempo del algoritmo será: \",hof[0].fitness.values[0])"
   ]
  },
  {
   "attachments": {},
   "cell_type": "markdown",
   "metadata": {},
   "source": [
    "### Revisión de resultados repetidos"
   ]
  },
  {
   "attachments": {},
   "cell_type": "markdown",
   "metadata": {},
   "source": [
    "Aquí se verifica si existen resultados duplicados en la mejor solución encontrada por el algoritmo genético. Se crea un conjunto de placas de licencia únicas para eliminar duplicados y se imprime la longitud de la mejor solución, el conjunto de placas de licencia únicas y la lista completa de placas de licencia."
   ]
  },
  {
   "cell_type": "code",
   "execution_count": null,
   "metadata": {},
   "outputs": [],
   "source": [
    "licence_plates = set()\n",
    "licencias = []\n",
    "for t in hof[0]:\n",
    "    licence_plates.add(t.licence_plate)\n",
    "    licencias.append(t.licence_plate)\n",
    "\n",
    "print(len(hof[0]))\n",
    "print(licence_plates)\n",
    "print(licencias)"
   ]
  }
 ],
 "metadata": {
  "kernelspec": {
   "display_name": "Python 3",
   "language": "python",
   "name": "python3"
  },
  "language_info": {
   "codemirror_mode": {
    "name": "ipython",
    "version": 3
   },
   "file_extension": ".py",
   "mimetype": "text/x-python",
   "name": "python",
   "nbconvert_exporter": "python",
   "pygments_lexer": "ipython3",
   "version": "3.10.4"
  }
 },
 "nbformat": 4,
 "nbformat_minor": 4
}
